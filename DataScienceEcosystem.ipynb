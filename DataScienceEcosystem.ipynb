{
 "cells": [
  {
   "cell_type": "markdown",
   "id": "79bc1b58-4439-4cab-9cd3-1b6cbb38a162",
   "metadata": {},
   "source": [
    "# Data Science Tools and Ecosystem"
   ]
  },
  {
   "cell_type": "markdown",
   "id": "74403d37-278f-4a51-9a3e-b444e0985b2d",
   "metadata": {},
   "source": [
    "## Author\n",
    "Caitlin"
   ]
  },
  {
   "cell_type": "markdown",
   "id": "e3b81559-99cb-4018-9636-a68a11a5cebe",
   "metadata": {},
   "source": [
    "In this notebook, Data Science Tools and Ecosystem are summarized."
   ]
  },
  {
   "cell_type": "markdown",
   "id": "a0b0e658-7cc1-47a9-855f-e038757c37df",
   "metadata": {},
   "source": [
    "**Objectives:**\n",
    "- List popular languages for Data Science\n",
    "- List common libraries for Data Science\n",
    "- List Data Science tools\n",
    "- Provide examples of evaluating arithmetic expressions using Python\n",
    "- Pratice using markdown cells in Jupyter Notebook"
   ]
  },
  {
   "cell_type": "markdown",
   "id": "e1380fe8-9a6c-4e45-a910-c9c07d228e64",
   "metadata": {},
   "source": [
    "Some of the popular languages that Data Scientists use are:\n",
    "1. Python\n",
    "2. R\n",
    "3. SQL"
   ]
  },
  {
   "cell_type": "markdown",
   "id": "3702e95c-a000-4c37-9b4b-7a00a2697235",
   "metadata": {},
   "source": [
    "Some of the commonly used libraries used by Data Scientists include:\n",
    "1. Scientific Computing Libraries - Ex. Pandas\n",
    "2. Visualization Libraries - Ex. Matplotlib\n",
    "3. Machine Learning and Deep Learning - Ex. PyTorch"
   ]
  },
  {
   "cell_type": "markdown",
   "id": "14d7d658-d7df-4010-aff4-e28b740ae043",
   "metadata": {},
   "source": [
    "| Data Science Tools |\n",
    "|:------------------:|\n",
    "| Jupyter            |\n",
    "| RStudio            |\n",
    "| Spyder             |"
   ]
  },
  {
   "cell_type": "markdown",
   "id": "1383d9b3-ac48-466c-a133-af680fe7346b",
   "metadata": {},
   "source": [
    "### Below are a few examples of evaluating arithmetic expressions in Python"
   ]
  },
  {
   "cell_type": "code",
   "execution_count": 4,
   "id": "0fc7504c-0fb6-40ef-aff3-0f72cb415175",
   "metadata": {},
   "outputs": [
    {
     "data": {
      "text/plain": [
       "17"
      ]
     },
     "execution_count": 4,
     "metadata": {},
     "output_type": "execute_result"
    }
   ],
   "source": [
    "# This a simple arithmetic expression to multiply then add integers\n",
    "(3*4)+5"
   ]
  },
  {
   "cell_type": "code",
   "execution_count": 5,
   "id": "437f5a30-96e5-49a1-b77f-944ef53954ba",
   "metadata": {},
   "outputs": [
    {
     "data": {
      "text/plain": [
       "33.333333333333336"
      ]
     },
     "execution_count": 5,
     "metadata": {},
     "output_type": "execute_result"
    }
   ],
   "source": [
    "# This will convert 200 minutes to hours by diving by 60\n",
    "200 / 6"
   ]
  },
  {
   "cell_type": "code",
   "execution_count": null,
   "id": "fdd0066c-6519-4e8c-ba52-5c40668c57af",
   "metadata": {},
   "outputs": [],
   "source": []
  }
 ],
 "metadata": {
  "kernelspec": {
   "display_name": "Python 3 (ipykernel)",
   "language": "python",
   "name": "python3"
  },
  "language_info": {
   "codemirror_mode": {
    "name": "ipython",
    "version": 3
   },
   "file_extension": ".py",
   "mimetype": "text/x-python",
   "name": "python",
   "nbconvert_exporter": "python",
   "pygments_lexer": "ipython3",
   "version": "3.12.8"
  }
 },
 "nbformat": 4,
 "nbformat_minor": 5
}
